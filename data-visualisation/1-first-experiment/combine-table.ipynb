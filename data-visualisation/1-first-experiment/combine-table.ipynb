{
 "cells": [
  {
   "cell_type": "code",
   "execution_count": 2,
   "metadata": {},
   "outputs": [],
   "source": [
    "import os\n",
    "import pandas as pd\n",
    "import matplotlib.pyplot as plt"
   ]
  },
  {
   "cell_type": "code",
   "execution_count": 9,
   "metadata": {},
   "outputs": [
    {
     "name": "stdout",
     "output_type": "stream",
     "text": [
      "   Unnamed: 0        micro         mono               scenario\n",
      "9          10   222.107849   218.168732  Scenario 1 - 03-11-23\n",
      "19         20   222.263306   221.367401  Scenario 1 - 03-11-23\n",
      "29         30   270.066773   242.425263  Scenario 1 - 03-11-23\n",
      "30        Min   213.255707   208.462219  Scenario 1 - 03-11-23\n",
      "31        Max   323.680084   590.922485  Scenario 1 - 03-11-23\n",
      "32    Average   232.769122   278.196451  Scenario 1 - 03-11-23\n",
      "42         10   530.890198   653.603637  Scenario 2 - 04-11-23\n",
      "52         20   540.329498   592.258942  Scenario 2 - 04-11-23\n",
      "62         30   618.290070   640.325988  Scenario 2 - 04-11-23\n",
      "63        Min   519.839570   585.287811  Scenario 2 - 04-11-23\n",
      "64        Max  1030.905732  1515.941528  Scenario 2 - 04-11-23\n",
      "65    Average   601.261566   711.680334  Scenario 2 - 04-11-23\n",
      "75         10   539.364044   410.412934  Scenario 3 - 14-11-23\n",
      "85         20   487.789520   424.333313  Scenario 3 - 14-11-23\n",
      "95         30   444.311249   369.831085  Scenario 3 - 14-11-23\n",
      "96        Min   385.230316   358.172821  Scenario 3 - 14-11-23\n",
      "97        Max  1264.362701   825.667755  Scenario 3 - 14-11-23\n",
      "98    Average   544.519231   464.393213  Scenario 3 - 14-11-23\n"
     ]
    }
   ],
   "source": [
    "df = pd.read_csv('table-data.csv')\n",
    "df\n",
    "# return only rows where first col is 10,20,30, Min,Max or Average\n",
    "df = df[df['Unnamed: 0'].isin(['0','10','20','30','Min','Max','Average'])]\n",
    "print(df)"
   ]
  }
 ],
 "metadata": {
  "kernelspec": {
   "display_name": "da2023",
   "language": "python",
   "name": "python3"
  },
  "language_info": {
   "codemirror_mode": {
    "name": "ipython",
    "version": 3
   },
   "file_extension": ".py",
   "mimetype": "text/x-python",
   "name": "python",
   "nbconvert_exporter": "python",
   "pygments_lexer": "ipython3",
   "version": "3.10.9"
  }
 },
 "nbformat": 4,
 "nbformat_minor": 2
}
