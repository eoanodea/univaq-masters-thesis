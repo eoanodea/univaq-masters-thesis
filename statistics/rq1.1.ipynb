{
 "cells": [
  {
   "cell_type": "code",
   "execution_count": 10,
   "metadata": {},
   "outputs": [],
   "source": [
    "import pandas as pd\n",
    "import numpy as np\n",
    "from scipy import stats\n",
    "from scipy.stats import ttest_ind\n",
    "from datetime import datetime\n"
   ]
  },
  {
   "cell_type": "code",
   "execution_count": 11,
   "metadata": {},
   "outputs": [],
   "source": [
    "ticket_monster_df = pd.read_csv('tm_all_scenarios.csv')\n",
    "pet_clinic_df = pd.read_csv('pc_all_scenarios_2.csv')"
   ]
  },
  {
   "cell_type": "code",
   "execution_count": 12,
   "metadata": {},
   "outputs": [
    {
     "name": "stdout",
     "output_type": "stream",
     "text": [
      "Difference in hours:  44.84916666666667\n"
     ]
    }
   ],
   "source": [
    "\n",
    "# Define the datetime format\n",
    "fmt = \"%d-%m-%yT%H-%M-%S\"\n",
    "\n",
    "# Define the two timestamps\n",
    "t1 = \"11-12-23T03-19-36\"\n",
    "t2 = \"09-12-23T06-28-39\"\n",
    "\n",
    "# Convert the timestamps to datetime objects\n",
    "dt1 = datetime.strptime(t1, fmt)\n",
    "dt2 = datetime.strptime(t2, fmt)\n",
    "\n",
    "# Calculate the difference in hours\n",
    "diff = dt1 - dt2\n",
    "hours_diff = diff.total_seconds() / 3600\n",
    "\n",
    "print(\"Difference in hours: \", hours_diff)"
   ]
  },
  {
   "cell_type": "code",
   "execution_count": 15,
   "metadata": {},
   "outputs": [
    {
     "name": "stdout",
     "output_type": "stream",
     "text": [
      "Ticket Monster t-test Results:\n",
      "  Scenario  t_statistic       p_value\n",
      "0        1    -0.093993  9.254389e-01\n",
      "1        2    -6.019273  1.266751e-07\n",
      "2        3    -7.056458  2.356193e-09\n",
      "\n",
      "Pet Clinic t-test Results:\n",
      "  Scenario  t_statistic       p_value\n",
      "0        1    -0.209252  8.349851e-01\n",
      "1        2    -3.714823  4.590234e-04\n",
      "2        3    -6.461945  2.333477e-08\n"
     ]
    }
   ],
   "source": [
    "\n",
    "# Define a function to perform t-test for each scenario\n",
    "def perform_ttest(df):\n",
    "    # Get unique scenarios\n",
    "    scenarios = df['ScenarioPath'].unique()\n",
    "\n",
    "    # Initialize an empty DataFrame to store the results\n",
    "    results = pd.DataFrame(columns=['Scenario', 't_statistic', 'p_value'])\n",
    "\n",
    "    # Loop over each scenario\n",
    "    for scenario in scenarios:\n",
    "        # Filter data for current scenario\n",
    "        scenario_data = df[df['ScenarioPath'] == scenario]\n",
    "\n",
    "        # Split the data into two DataFrames, one for 'micro' and one for 'mono'\n",
    "        micro_data = scenario_data[scenario_data['Architecture'] == 'micro']\n",
    "        mono_data = scenario_data[scenario_data['Architecture'] == 'mono']\n",
    "\n",
    "        # Perform t-test\n",
    "        t_statistic, p_value = ttest_ind(micro_data['Joules'], mono_data['Joules'])\n",
    "\n",
    "        # Append the results to the DataFrame\n",
    "        result = pd.DataFrame({'Scenario': [scenario], 't_statistic': [t_statistic], 'p_value': [p_value]})\n",
    "        results = pd.concat([results, result], ignore_index=True)\n",
    "\n",
    "    return results\n",
    "\n",
    "# Perform t-test for each scenario in ticket_monster_df and pet_clinic_df\n",
    "ticket_monster_results = perform_ttest(ticket_monster_df)\n",
    "pet_clinic_results = perform_ttest(pet_clinic_df)\n",
    "\n",
    "# Print the results\n",
    "print(\"Ticket Monster t-test Results:\")\n",
    "print(ticket_monster_results)\n",
    "print(\"\\nPet Clinic t-test Results:\")\n",
    "print(pet_clinic_results)"
   ]
  },
  {
   "cell_type": "code",
   "execution_count": 18,
   "metadata": {},
   "outputs": [
    {
     "name": "stdout",
     "output_type": "stream",
     "text": [
      "Ticket Monster Welch's t-test Results:\n",
      "  Scenario  t_statistic       p_value\n",
      "0        1    -0.093993  9.254389e-01\n",
      "1        2    -6.019273  1.304479e-07\n",
      "2        3    -7.056458  2.483329e-09\n",
      "\n",
      "Pet Clinic Welch's t-test Results:\n",
      "  Scenario  t_statistic       p_value\n",
      "0        1    -0.209252  8.349851e-01\n",
      "1        2    -3.714823  4.593827e-04\n",
      "2        3    -6.461945  2.333477e-08\n"
     ]
    }
   ],
   "source": [
    "import pandas as pd\n",
    "from scipy.stats import ttest_ind\n",
    "\n",
    "# Define a function to perform Welch's t-test for each scenario\n",
    "def perform_welchs_ttest(df):\n",
    "    # Get unique scenarios\n",
    "    scenarios = df['ScenarioPath'].unique()\n",
    "\n",
    "    # Initialize an empty DataFrame to store the results\n",
    "    results = pd.DataFrame(columns=['Scenario', 't_statistic', 'p_value'])\n",
    "\n",
    "    # Loop over each scenario\n",
    "    for scenario in scenarios:\n",
    "        # Filter data for current scenario\n",
    "        scenario_data = df[df['ScenarioPath'] == scenario]\n",
    "\n",
    "        # Split the data into two DataFrames, one for 'micro' and one for 'mono'\n",
    "        micro_data = scenario_data[scenario_data['Architecture'] == 'micro']\n",
    "        mono_data = scenario_data[scenario_data['Architecture'] == 'mono']\n",
    "\n",
    "        # Perform Welch's t-test\n",
    "        t_statistic, p_value = ttest_ind(micro_data['Joules'], mono_data['Joules'], equal_var=False)\n",
    "\n",
    "        # Create a DataFrame for the result\n",
    "        result = pd.DataFrame({'Scenario': [scenario], 't_statistic': [t_statistic], 'p_value': [p_value]})\n",
    "\n",
    "        # Concatenate the result to the results DataFrame\n",
    "        results = pd.concat([results, result], ignore_index=True)\n",
    "\n",
    "    return results\n",
    "\n",
    "# Perform Welch's t-test for each scenario in ticket_monster_df and pet_clinic_df\n",
    "ticket_monster_results = perform_welchs_ttest(ticket_monster_df)\n",
    "pet_clinic_results = perform_welchs_ttest(pet_clinic_df)\n",
    "\n",
    "# Print the results\n",
    "print(\"Ticket Monster Welch's t-test Results:\")\n",
    "print(ticket_monster_results)\n",
    "print(\"\\nPet Clinic Welch's t-test Results:\")\n",
    "print(pet_clinic_results)"
   ]
  },
  {
   "cell_type": "code",
   "execution_count": null,
   "metadata": {},
   "outputs": [
    {
     "name": "stdout",
     "output_type": "stream",
     "text": [
      "t statistic:  -1.3180475268184224\n",
      "p-value:  0.18918141708289368\n"
     ]
    }
   ],
   "source": [
    "from scipy.stats import ttest_ind\n",
    "\n",
    "# Split the data into two DataFrames, one for 'micro' and one for 'mono'\n",
    "micro_data_pc = pet_clinic_df[pet_clinic_df['Architecture'] == 'micro']\n",
    "mono_data_pc = pet_clinic_df[pet_clinic_df['Architecture'] == 'mono']\n",
    "\n",
    "# Perform t-test\n",
    "t_statistic, p_value = ttest_ind(micro_data_pc['Joules'], mono_data_pc['Joules'])\n",
    "\n",
    "print(\"t statistic: \", t_statistic)\n",
    "print(\"p-value: \", p_value)"
   ]
  },
  {
   "cell_type": "code",
   "execution_count": null,
   "metadata": {},
   "outputs": [
    {
     "name": "stdout",
     "output_type": "stream",
     "text": [
      "F statistic:  0.7964127524008311\n",
      "p-value:  0.8576011192381527\n"
     ]
    }
   ],
   "source": [
    "from scipy.stats import f\n",
    "\n",
    "# Calculate F test statistic\n",
    "f_statistic = variance_micro_tm / variance_mono_tm\n",
    "\n",
    "# Calculate degrees of freedom\n",
    "df1 = len(ticket_monster_df[ticket_monster_df['Architecture'] == 'micro']) - 1\n",
    "df2 = len(ticket_monster_df[ticket_monster_df['Architecture'] == 'mono']) - 1\n",
    "\n",
    "# Calculate p-value\n",
    "p_value = f.sf(f_statistic, df1, df2)\n",
    "\n",
    "print(\"F statistic: \", f_statistic)\n",
    "print(\"p-value: \", p_value)"
   ]
  },
  {
   "cell_type": "code",
   "execution_count": null,
   "metadata": {},
   "outputs": [
    {
     "name": "stdout",
     "output_type": "stream",
     "text": [
      "PetClinic F statistic:  0.7166620562555076\n",
      "PetClinic p-value:  0.9410290424295835\n"
     ]
    }
   ],
   "source": [
    "# Calculate F test statistic for PetClinic\n",
    "f_statistic_pc = variance_micro_pc / variance_mono_pc\n",
    "\n",
    "# Calculate degrees of freedom for PetClinic\n",
    "df1_pc = len(pet_clinic_df[pet_clinic_df['Architecture'] == 'micro']) - 1\n",
    "df2_pc = len(pet_clinic_df[pet_clinic_df['Architecture'] == 'mono']) - 1\n",
    "\n",
    "# Calculate p-value for PetClinic\n",
    "p_value_pc = f.sf(f_statistic_pc, df1_pc, df2_pc)\n",
    "\n",
    "print(\"PetClinic F statistic: \", f_statistic_pc)\n",
    "print(\"PetClinic p-value: \", p_value_pc)"
   ]
  }
 ],
 "metadata": {
  "kernelspec": {
   "display_name": "univaq",
   "language": "python",
   "name": "python3"
  },
  "language_info": {
   "codemirror_mode": {
    "name": "ipython",
    "version": 3
   },
   "file_extension": ".py",
   "mimetype": "text/x-python",
   "name": "python",
   "nbconvert_exporter": "python",
   "pygments_lexer": "ipython3",
   "version": "3.8.20"
  }
 },
 "nbformat": 4,
 "nbformat_minor": 2
}
