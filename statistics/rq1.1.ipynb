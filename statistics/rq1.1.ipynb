{
 "cells": [
  {
   "cell_type": "code",
   "execution_count": 70,
   "metadata": {},
   "outputs": [],
   "source": [
    "import pandas as pd\n",
    "import numpy as np\n",
    "from scipy import stats\n",
    "from scipy.stats import ttest_ind\n",
    "from datetime import datetime\n"
   ]
  },
  {
   "cell_type": "code",
   "execution_count": 71,
   "metadata": {},
   "outputs": [],
   "source": [
    "ticket_monster_df = pd.read_csv('tm_all_scenarios.csv')\n",
    "pet_clinic_df = pd.read_csv('pc_all_scenarios_2.csv')"
   ]
  },
  {
   "cell_type": "code",
   "execution_count": 72,
   "metadata": {},
   "outputs": [
    {
     "name": "stdout",
     "output_type": "stream",
     "text": [
      "Difference in hours:  44.84916666666667\n"
     ]
    }
   ],
   "source": [
    "\n",
    "# Define the datetime format\n",
    "fmt = \"%d-%m-%yT%H-%M-%S\"\n",
    "\n",
    "# Define the two timestamps\n",
    "t1 = \"11-12-23T03-19-36\"\n",
    "t2 = \"09-12-23T06-28-39\"\n",
    "\n",
    "# Convert the timestamps to datetime objects\n",
    "dt1 = datetime.strptime(t1, fmt)\n",
    "dt2 = datetime.strptime(t2, fmt)\n",
    "\n",
    "# Calculate the difference in hours\n",
    "diff = dt1 - dt2\n",
    "hours_diff = diff.total_seconds() / 3600\n",
    "\n",
    "print(\"Difference in hours: \", hours_diff)"
   ]
  },
  {
   "cell_type": "code",
   "execution_count": 73,
   "metadata": {},
   "outputs": [
    {
     "name": "stdout",
     "output_type": "stream",
     "text": [
      "Ticket Monster t-test Results:\n",
      "  Scenario  t_statistic       p_value\n",
      "0        1    -0.093993  9.254389e-01\n",
      "1        2    -6.019273  1.266751e-07\n",
      "2        3    -7.056458  2.356193e-09\n",
      "\n",
      "Pet Clinic t-test Results:\n",
      "  Scenario  t_statistic       p_value\n",
      "0        1    -0.209252  8.349851e-01\n",
      "1        2    -3.714823  4.590234e-04\n",
      "2        3    -6.461945  2.333477e-08\n"
     ]
    },
    {
     "name": "stderr",
     "output_type": "stream",
     "text": [
      "/var/folders/84/yf0wflkx5j19fmr6tjfds18m0000gn/T/ipykernel_19954/1776729204.py:23: FutureWarning: The behavior of DataFrame concatenation with empty or all-NA entries is deprecated. In a future version, this will no longer exclude empty or all-NA columns when determining the result dtypes. To retain the old behavior, exclude the relevant entries before the concat operation.\n",
      "  results = pd.concat([results, result], ignore_index=True)\n",
      "/var/folders/84/yf0wflkx5j19fmr6tjfds18m0000gn/T/ipykernel_19954/1776729204.py:23: FutureWarning: The behavior of DataFrame concatenation with empty or all-NA entries is deprecated. In a future version, this will no longer exclude empty or all-NA columns when determining the result dtypes. To retain the old behavior, exclude the relevant entries before the concat operation.\n",
      "  results = pd.concat([results, result], ignore_index=True)\n"
     ]
    }
   ],
   "source": [
    "\n",
    "# Define a function to perform t-test for each scenario\n",
    "def perform_ttest(df):\n",
    "    # Get unique scenarios\n",
    "    scenarios = df['ScenarioPath'].unique()\n",
    "\n",
    "    # Initialize an empty DataFrame to store the results\n",
    "    results = pd.DataFrame(columns=['Scenario', 't_statistic', 'p_value'])\n",
    "\n",
    "    # Loop over each scenario\n",
    "    for scenario in scenarios:\n",
    "        # Filter data for current scenario\n",
    "        scenario_data = df[df['ScenarioPath'] == scenario]\n",
    "\n",
    "        # Split the data into two DataFrames, one for 'micro' and one for 'mono'\n",
    "        micro_data = scenario_data[scenario_data['Architecture'] == 'micro']\n",
    "        mono_data = scenario_data[scenario_data['Architecture'] == 'mono']\n",
    "\n",
    "        # Perform t-test\n",
    "        t_statistic, p_value = ttest_ind(micro_data['Joules'], mono_data['Joules'])\n",
    "\n",
    "        # Append the results to the DataFrame\n",
    "        result = pd.DataFrame({'Scenario': [scenario], 't_statistic': [t_statistic], 'p_value': [p_value]})\n",
    "        results = pd.concat([results, result], ignore_index=True)\n",
    "\n",
    "    return results\n",
    "\n",
    "# Perform t-test for each scenario in ticket_monster_df and pet_clinic_df\n",
    "ticket_monster_results = perform_ttest(ticket_monster_df)\n",
    "pet_clinic_results = perform_ttest(pet_clinic_df)\n",
    "\n",
    "# Print the results\n",
    "print(\"Ticket Monster t-test Results:\")\n",
    "print(ticket_monster_results)\n",
    "print(\"\\nPet Clinic t-test Results:\")\n",
    "print(pet_clinic_results)"
   ]
  },
  {
   "cell_type": "code",
   "execution_count": 74,
   "metadata": {},
   "outputs": [
    {
     "name": "stdout",
     "output_type": "stream",
     "text": [
      "Ticket Monster Welch's t-test Results:\n",
      "  Scenario  t_statistic       p_value\n",
      "0        1    -0.093993  9.254389e-01\n",
      "1        2    -6.019273  1.304479e-07\n",
      "2        3    -7.056458  2.483329e-09\n",
      "\n",
      "Pet Clinic Welch's t-test Results:\n",
      "  Scenario  t_statistic       p_value\n",
      "0        1    -0.209252  8.349851e-01\n",
      "1        2    -3.714823  4.593827e-04\n",
      "2        3    -6.461945  2.333477e-08\n"
     ]
    },
    {
     "name": "stderr",
     "output_type": "stream",
     "text": [
      "/var/folders/84/yf0wflkx5j19fmr6tjfds18m0000gn/T/ipykernel_19954/3516944271.py:28: FutureWarning: The behavior of DataFrame concatenation with empty or all-NA entries is deprecated. In a future version, this will no longer exclude empty or all-NA columns when determining the result dtypes. To retain the old behavior, exclude the relevant entries before the concat operation.\n",
      "  results = pd.concat([results, result], ignore_index=True)\n",
      "/var/folders/84/yf0wflkx5j19fmr6tjfds18m0000gn/T/ipykernel_19954/3516944271.py:28: FutureWarning: The behavior of DataFrame concatenation with empty or all-NA entries is deprecated. In a future version, this will no longer exclude empty or all-NA columns when determining the result dtypes. To retain the old behavior, exclude the relevant entries before the concat operation.\n",
      "  results = pd.concat([results, result], ignore_index=True)\n"
     ]
    }
   ],
   "source": [
    "import pandas as pd\n",
    "from scipy.stats import ttest_ind\n",
    "\n",
    "# Define a function to perform Welch's t-test for each scenario\n",
    "def perform_welchs_ttest(df):\n",
    "    # Get unique scenarios\n",
    "    scenarios = df['ScenarioPath'].unique()\n",
    "\n",
    "    # Initialize an empty DataFrame to store the results\n",
    "    results = pd.DataFrame(columns=['Scenario', 't_statistic', 'p_value'])\n",
    "\n",
    "    # Loop over each scenario\n",
    "    for scenario in scenarios:\n",
    "        # Filter data for current scenario\n",
    "        scenario_data = df[df['ScenarioPath'] == scenario]\n",
    "\n",
    "        # Split the data into two DataFrames, one for 'micro' and one for 'mono'\n",
    "        micro_data = scenario_data[scenario_data['Architecture'] == 'micro']\n",
    "        mono_data = scenario_data[scenario_data['Architecture'] == 'mono']\n",
    "\n",
    "        # Perform Welch's t-test\n",
    "        t_statistic, p_value = ttest_ind(micro_data['Joules'], mono_data['Joules'], equal_var=False)\n",
    "\n",
    "        # Create a DataFrame for the result\n",
    "        result = pd.DataFrame({'Scenario': [scenario], 't_statistic': [t_statistic], 'p_value': [p_value]})\n",
    "\n",
    "        # Concatenate the result to the results DataFrame\n",
    "        results = pd.concat([results, result], ignore_index=True)\n",
    "\n",
    "    return results\n",
    "\n",
    "# Perform Welch's t-test for each scenario in ticket_monster_df and pet_clinic_df\n",
    "ticket_monster_results = perform_welchs_ttest(ticket_monster_df)\n",
    "pet_clinic_results = perform_welchs_ttest(pet_clinic_df)\n",
    "\n",
    "# Print the results\n",
    "print(\"Ticket Monster Welch's t-test Results:\")\n",
    "print(ticket_monster_results)\n",
    "print(\"\\nPet Clinic Welch's t-test Results:\")\n",
    "print(pet_clinic_results)"
   ]
  },
  {
   "cell_type": "code",
   "execution_count": 75,
   "metadata": {},
   "outputs": [
    {
     "name": "stdout",
     "output_type": "stream",
     "text": [
      "t statistic:  -1.3180475268184224\n",
      "p-value:  0.18918141708289368\n"
     ]
    }
   ],
   "source": [
    "from scipy.stats import ttest_ind\n",
    "\n",
    "# Split the data into two DataFrames, one for 'micro' and one for 'mono'\n",
    "micro_data_pc = pet_clinic_df[pet_clinic_df['Architecture'] == 'micro']\n",
    "mono_data_pc = pet_clinic_df[pet_clinic_df['Architecture'] == 'mono']\n",
    "\n",
    "# Perform t-test\n",
    "t_statistic, p_value = ttest_ind(micro_data_pc['Joules'], mono_data_pc['Joules'])\n",
    "\n",
    "print(\"t statistic: \", t_statistic)\n",
    "print(\"p-value: \", p_value)"
   ]
  },
  {
   "cell_type": "code",
   "execution_count": 76,
   "metadata": {},
   "outputs": [],
   "source": [
    "# Note: Original F-test for Ticket Monster\n",
    "\n",
    "# This cell previously contained F-test calculations with undefined variance variables. Those calculations have been moved to cells below where we first calculate the variances and then perform the F-tests for both datasets.\n",
    "\n",
    "# In the updated workflow, we:\n",
    "# 1. Calculate variances for both architectures\n",
    "# 2. Perform F-tests to compare these variances\n",
    "# 3. Based on F-test results, choose the appropriate t-test (though we use Welch's t-test regardless for robustness)\n",
    "\n",
    "# Also added: per-scenario variance analysis to provide a more detailed comparison between architectures."
   ]
  },
  {
   "cell_type": "code",
   "execution_count": 77,
   "metadata": {},
   "outputs": [
    {
     "name": "stdout",
     "output_type": "stream",
     "text": [
      "Ticket Monster Variances:\n",
      "Microservice variance: 4815.7242\n",
      "Monolithic variance: 6046.7694\n",
      "\n",
      "PetClinic Variances:\n",
      "Microservice variance: 2011.8794\n",
      "Monolithic variance: 2790.6350\n"
     ]
    }
   ],
   "source": [
    "# Calculate variances for Ticket Monster data\n",
    "micro_data_tm = ticket_monster_df[ticket_monster_df['Architecture'] == 'micro']['Joules']\n",
    "mono_data_tm = ticket_monster_df[ticket_monster_df['Architecture'] == 'mono']['Joules']\n",
    "variance_micro_tm = micro_data_tm.var()\n",
    "variance_mono_tm = mono_data_tm.var()\n",
    "\n",
    "# Calculate variances for PetClinic data\n",
    "micro_data_pc = pet_clinic_df[pet_clinic_df['Architecture'] == 'micro']['Joules']\n",
    "mono_data_pc = pet_clinic_df[pet_clinic_df['Architecture'] == 'mono']['Joules']\n",
    "variance_micro_pc = micro_data_pc.var()\n",
    "variance_mono_pc = mono_data_pc.var()\n",
    "\n",
    "print(\"Ticket Monster Variances:\")\n",
    "print(f\"Microservice variance: {variance_micro_tm:.4f}\")\n",
    "print(f\"Monolithic variance: {variance_mono_tm:.4f}\")\n",
    "\n",
    "print(\"\\nPetClinic Variances:\")\n",
    "print(f\"Microservice variance: {variance_micro_pc:.4f}\")\n",
    "print(f\"Monolithic variance: {variance_mono_pc:.4f}\")"
   ]
  },
  {
   "cell_type": "code",
   "execution_count": 78,
   "metadata": {},
   "outputs": [
    {
     "name": "stdout",
     "output_type": "stream",
     "text": [
      "\n",
      "Ticket Monster F statistic:  0.7964127524008312\n",
      "Ticket Monster p-value:  0.8576011192381526\n",
      "\n",
      "PetClinic F statistic:  0.7209396206738666\n",
      "PetClinic p-value:  0.9376899597723792\n"
     ]
    }
   ],
   "source": [
    "# Now perform F-tests using the calculated variances\n",
    "from scipy.stats import f\n",
    "\n",
    "# Calculate F test statistic for Ticket Monster\n",
    "f_statistic = variance_micro_tm / variance_mono_tm\n",
    "\n",
    "# Calculate degrees of freedom for Ticket Monster\n",
    "df1 = len(ticket_monster_df[ticket_monster_df['Architecture'] == 'micro']) - 1\n",
    "df2 = len(ticket_monster_df[ticket_monster_df['Architecture'] == 'mono']) - 1\n",
    "\n",
    "# Calculate p-value for Ticket Monster\n",
    "p_value = f.sf(f_statistic, df1, df2)\n",
    "\n",
    "print(\"\\nTicket Monster F statistic: \", f_statistic)\n",
    "print(\"Ticket Monster p-value: \", p_value)\n",
    "\n",
    "# Calculate F test statistic for PetClinic\n",
    "f_statistic_pc = variance_micro_pc / variance_mono_pc\n",
    "\n",
    "# Calculate degrees of freedom for PetClinic\n",
    "df1_pc = len(pet_clinic_df[pet_clinic_df['Architecture'] == 'micro']) - 1\n",
    "df2_pc = len(pet_clinic_df[pet_clinic_df['Architecture'] == 'mono']) - 1\n",
    "\n",
    "# Calculate p-value for PetClinic\n",
    "p_value_pc = f.sf(f_statistic_pc, df1_pc, df2_pc)\n",
    "\n",
    "print(\"\\nPetClinic F statistic: \", f_statistic_pc)\n",
    "print(\"PetClinic p-value: \", p_value_pc)"
   ]
  },
  {
   "cell_type": "code",
   "execution_count": 79,
   "metadata": {},
   "outputs": [],
   "source": [
    "# Note: F-test for PetClinic\n",
    "\n",
    "# This test has been moved to a previous cell where we first calculate the variances and then perform the F-test. The F-test compares the variances between two groups to determine if they are significantly different.\n",
    "\n",
    "# - If p-value < 0.05: The variances are significantly different, suggesting the use of Welch's t-test (which doesn't assume equal variances)\n",
    "# - If p-value ≥ 0.05: No significant evidence that variances differ; either standard t-test or Welch's t-test can be used (Welch's is generally preferred for robustness)\n",
    "\n",
    "# The entire statistical workflow we've implemented is:\n",
    "# 1. Calculate descriptive statistics (mean, variance) for each architecture and scenario\n",
    "# 2. Test for equal variances using F-test\n",
    "# 3. Perform Welch's t-test (robust to unequal variances) to compare means\n",
    "# 4. Calculate effect sizes and confidence intervals to assess practical significance"
   ]
  },
  {
   "cell_type": "code",
   "execution_count": 80,
   "metadata": {},
   "outputs": [
    {
     "name": "stdout",
     "output_type": "stream",
     "text": [
      "\n",
      "Detailed Welch's t-test Results for PetClinic Scenarios:\n",
      "  Scenario  Micro_Mean  Mono_Mean  Mean_Diff  Micro_Std  Mono_Std  T_Statistic  P_Value Sample_Size Significant\n",
      "Scenario 1     97.0661    97.4155    -0.3494     6.4753    6.4573      -0.2093   0.8350          30          No\n",
      "Scenario 2    142.0137   150.5488    -8.5352     8.7495    9.0451      -3.7148   0.0005          30         Yes\n",
      "Scenario 3    203.5488   223.5488   -20.0000    11.9871   11.9871      -6.4619   0.0000          30         Yes\n"
     ]
    },
    {
     "name": "stderr",
     "output_type": "stream",
     "text": [
      "/var/folders/84/yf0wflkx5j19fmr6tjfds18m0000gn/T/ipykernel_19954/1314454139.py:56: FutureWarning: The behavior of DataFrame concatenation with empty or all-NA entries is deprecated. In a future version, this will no longer exclude empty or all-NA columns when determining the result dtypes. To retain the old behavior, exclude the relevant entries before the concat operation.\n",
      "  welch_results = pd.concat([welch_results, result], ignore_index=True)\n"
     ]
    }
   ],
   "source": [
    "import pandas as pd\n",
    "import matplotlib.pyplot as plt\n",
    "import seaborn as sns\n",
    "from scipy import stats\n",
    "from scipy.stats import ttest_ind\n",
    "import numpy as np\n",
    "\n",
    "# Load the PetClinic data\n",
    "pet_clinic_data = pd.read_csv('pc_all_scenarios_2.csv')\n",
    "\n",
    "# Get unique scenarios\n",
    "scenarios = sorted(pet_clinic_data['ScenarioPath'].unique())\n",
    "\n",
    "# Initialize a DataFrame to store results\n",
    "welch_results = pd.DataFrame(columns=['Scenario', 'Micro_Mean', 'Mono_Mean', 'Mean_Diff', 'Micro_Std', 'Mono_Std', 'T_Statistic', 'P_Value', 'Sample_Size', 'Significant'])\n",
    "\n",
    "# Set significance level\n",
    "alpha = 0.05\n",
    "\n",
    "# Perform Welch's t-test for each scenario\n",
    "for scenario in scenarios:\n",
    "    # Filter data for current scenario\n",
    "    scenario_data = pet_clinic_data[pet_clinic_data['ScenarioPath'] == scenario]\n",
    "    \n",
    "    # Split by architecture\n",
    "    micro_data = scenario_data[scenario_data['Architecture'] == 'micro']['Joules']\n",
    "    mono_data = scenario_data[scenario_data['Architecture'] == 'mono']['Joules']\n",
    "    \n",
    "    # Calculate descriptive statistics\n",
    "    micro_mean = micro_data.mean()\n",
    "    mono_mean = mono_data.mean()\n",
    "    micro_std = micro_data.std()\n",
    "    mono_std = mono_data.std()\n",
    "    mean_diff = micro_mean - mono_mean\n",
    "    \n",
    "    # Perform Welch's t-test (unequal variances)\n",
    "    t_stat, p_value = ttest_ind(micro_data, mono_data, equal_var=False)\n",
    "    \n",
    "    # Determine if the result is statistically significant\n",
    "    significant = 'Yes' if p_value < alpha else 'No'\n",
    "    \n",
    "    # Add to results DataFrame\n",
    "    result = pd.DataFrame({\n",
    "        'Scenario': [f'Scenario {scenario}'],\n",
    "        'Micro_Mean': [micro_mean],\n",
    "        'Mono_Mean': [mono_mean],\n",
    "        'Mean_Diff': [mean_diff],\n",
    "        'Micro_Std': [micro_std],\n",
    "        'Mono_Std': [mono_std],\n",
    "        'T_Statistic': [t_stat],\n",
    "        'P_Value': [p_value],\n",
    "        'Sample_Size': [len(micro_data)],  # Assuming equal sample sizes\n",
    "        'Significant': [significant]\n",
    "    })\n",
    "    \n",
    "    welch_results = pd.concat([welch_results, result], ignore_index=True)\n",
    "\n",
    "# Display the results\n",
    "print(\"\\nDetailed Welch's t-test Results for PetClinic Scenarios:\")\n",
    "print(welch_results.round(4).to_string(index=False))"
   ]
  },
  {
   "cell_type": "code",
   "execution_count": 81,
   "metadata": {},
   "outputs": [
    {
     "name": "stderr",
     "output_type": "stream",
     "text": [
      "/var/folders/84/yf0wflkx5j19fmr6tjfds18m0000gn/T/ipykernel_19954/1812776874.py:12: FutureWarning: \n",
      "\n",
      "Passing `palette` without assigning `hue` is deprecated and will be removed in v0.14.0. Assign the `x` variable to `hue` and set `legend=False` for the same effect.\n",
      "\n",
      "  sns.boxplot(x='Architecture', y='Joules', data=scenario_data, palette='Set3')\n",
      "/var/folders/84/yf0wflkx5j19fmr6tjfds18m0000gn/T/ipykernel_19954/1812776874.py:12: FutureWarning: \n",
      "\n",
      "Passing `palette` without assigning `hue` is deprecated and will be removed in v0.14.0. Assign the `x` variable to `hue` and set `legend=False` for the same effect.\n",
      "\n",
      "  sns.boxplot(x='Architecture', y='Joules', data=scenario_data, palette='Set3')\n",
      "/var/folders/84/yf0wflkx5j19fmr6tjfds18m0000gn/T/ipykernel_19954/1812776874.py:12: FutureWarning: \n",
      "\n",
      "Passing `palette` without assigning `hue` is deprecated and will be removed in v0.14.0. Assign the `x` variable to `hue` and set `legend=False` for the same effect.\n",
      "\n",
      "  sns.boxplot(x='Architecture', y='Joules', data=scenario_data, palette='Set3')\n"
     ]
    },
    {
     "data": {
      "image/png": "[encoded data removed]",
      "text/plain": [
       "<Figure size 1500x1000 with 3 Axes>"
      ]
     },
     "metadata": {},
     "output_type": "display_data"
    }
   ],
   "source": [
    "# Create visualization of the energy consumption for each scenario\n",
    "plt.figure(figsize=(15, 10))\n",
    "\n",
    "# Create a subplot for each scenario\n",
    "for i, scenario in enumerate(scenarios):\n",
    "    plt.subplot(len(scenarios), 1, i+1)\n",
    "    \n",
    "    # Filter data for the current scenario\n",
    "    scenario_data = pet_clinic_data[pet_clinic_data['ScenarioPath'] == scenario]\n",
    "    \n",
    "    # Create box plot\n",
    "    sns.boxplot(x='Architecture', y='Joules', data=scenario_data, palette='Set3')\n",
    "    \n",
    "    # Add title and labels\n",
    "    plt.title(f'PetClinic Scenario {scenario} - Energy Consumption by Architecture', fontsize=12)\n",
    "    plt.ylabel('Energy (Joules)', fontsize=10)\n",
    "    \n",
    "    # Add statistical annotation\n",
    "    row = welch_results[welch_results['Scenario'] == f'Scenario {scenario}']\n",
    "    p_value = row['P_Value'].values[0]\n",
    "    annotation = f'Welch\\'s t-test: p={p_value:.4f}'\n",
    "    if row['Significant'].values[0] == 'Yes':\n",
    "        annotation += ' (significant)'\n",
    "    plt.annotate(annotation, xy=(0.5, 0.95), xycoords='axes fraction', ha='center', fontsize=9)\n",
    "\n",
    "plt.tight_layout()\n",
    "plt.show()"
   ]
  },
  {
   "cell_type": "code",
   "execution_count": 82,
   "metadata": {},
   "outputs": [
    {
     "name": "stdout",
     "output_type": "stream",
     "text": [
      "\n",
      "Effect Size and Confidence Intervals for PetClinic Scenarios:\n",
      "  Scenario  Cohens_d Effect_Magnitude  95%_CI_Lower  95%_CI_Upper\n",
      "Scenario 1   -0.0540       Negligible       -3.6914        2.9927\n",
      "Scenario 2   -0.9592            Large      -13.1344       -3.9359\n",
      "Scenario 3   -1.6685            Large      -26.1954      -13.8046\n"
     ]
    },
    {
     "name": "stderr",
     "output_type": "stream",
     "text": [
      "/var/folders/84/yf0wflkx5j19fmr6tjfds18m0000gn/T/ipykernel_19954/224793415.py:68: FutureWarning: The behavior of DataFrame concatenation with empty or all-NA entries is deprecated. In a future version, this will no longer exclude empty or all-NA columns when determining the result dtypes. To retain the old behavior, exclude the relevant entries before the concat operation.\n",
      "  effect_size_results = pd.concat([effect_size_results, result], ignore_index=True)\n"
     ]
    }
   ],
   "source": [
    "# Calculate effect size (Cohen's d) and confidence intervals\n",
    "effect_size_results = pd.DataFrame(columns=['Scenario', 'Cohens_d', 'Effect_Magnitude', '95%_CI_Lower', '95%_CI_Upper'])\n",
    "\n",
    "# Function to interpret Cohen's d\n",
    "def interpret_cohens_d(d):\n",
    "    abs_d = abs(d)\n",
    "    if abs_d < 0.2:\n",
    "        return 'Negligible'\n",
    "    elif abs_d < 0.5:\n",
    "        return 'Small'\n",
    "    elif abs_d < 0.8:\n",
    "        return 'Medium'\n",
    "    else:\n",
    "        return 'Large'\n",
    "\n",
    "# Calculate for each scenario\n",
    "for scenario in scenarios:\n",
    "    # Filter data for current scenario\n",
    "    scenario_data = pet_clinic_data[pet_clinic_data['ScenarioPath'] == scenario]\n",
    "    \n",
    "    # Split by architecture\n",
    "    micro_data = scenario_data[scenario_data['Architecture'] == 'micro']['Joules']\n",
    "    mono_data = scenario_data[scenario_data['Architecture'] == 'mono']['Joules']\n",
    "    \n",
    "    # Calculate Cohen's d\n",
    "    micro_mean = micro_data.mean()\n",
    "    mono_mean = mono_data.mean()\n",
    "    micro_var = micro_data.var()\n",
    "    mono_var = mono_data.var()\n",
    "    \n",
    "    # Pooled standard deviation\n",
    "    pooled_sd = np.sqrt((micro_var + mono_var) / 2)\n",
    "    \n",
    "    # Cohen's d\n",
    "    cohen_d = (micro_mean - mono_mean) / pooled_sd if pooled_sd != 0 else 0\n",
    "    \n",
    "    # Effect size magnitude\n",
    "    effect_magnitude = interpret_cohens_d(cohen_d)\n",
    "    \n",
    "    # Calculate 95% confidence interval for the mean difference\n",
    "    n1 = len(micro_data)\n",
    "    n2 = len(mono_data)\n",
    "    mean_diff = micro_mean - mono_mean\n",
    "    \n",
    "    # Standard error of the difference\n",
    "    se_diff = np.sqrt((micro_var / n1) + (mono_var / n2))\n",
    "    \n",
    "    # Degrees of freedom for Welch's t-test\n",
    "    df = ((micro_var / n1 + mono_var / n2)**2) / \\\n",
    "          ((micro_var / n1)**2 / (n1 - 1) + (mono_var / n2)**2 / (n2 - 1))\n",
    "    \n",
    "    # Critical t-value for 95% confidence\n",
    "    t_crit = stats.t.ppf(0.975, df)\n",
    "    \n",
    "    # Confidence interval\n",
    "    ci_lower = mean_diff - t_crit * se_diff\n",
    "    ci_upper = mean_diff + t_crit * se_diff\n",
    "    \n",
    "    # Add to results\n",
    "    result = pd.DataFrame({\n",
    "        'Scenario': [f'Scenario {scenario}'],\n",
    "        'Cohens_d': [cohen_d],\n",
    "        'Effect_Magnitude': [effect_magnitude],\n",
    "        '95%_CI_Lower': [ci_lower],\n",
    "        '95%_CI_Upper': [ci_upper]\n",
    "    })\n",
    "    \n",
    "    effect_size_results = pd.concat([effect_size_results, result], ignore_index=True)\n",
    "\n",
    "# Display the results\n",
    "print(\"\\nEffect Size and Confidence Intervals for PetClinic Scenarios:\")\n",
    "print(effect_size_results.round(4).to_string(index=False))"
   ]
  },
  {
   "cell_type": "code",
   "execution_count": 83,
   "metadata": {},
   "outputs": [
    {
     "name": "stdout",
     "output_type": "stream",
     "text": [
      "\n",
      "Comprehensive PetClinic Architecture Comparison Summary:\n",
      "  Scenario Sample_Size  Micro_Mean  Mono_Mean  Mean_Diff  Percentage_Diff  Micro_Std  Mono_Std  T_Statistic  P_Value Significant  Cohens_d Effect_Magnitude  95%_CI_Lower  95%_CI_Upper\n",
      "Scenario 1          30     97.0661    97.4155    -0.3494          -0.3586     6.4753    6.4573      -0.2093   0.8350          No   -0.0540       Negligible       -3.6914        2.9927\n",
      "Scenario 2          30    142.0137   150.5488    -8.5352          -5.6694     8.7495    9.0451      -3.7148   0.0005         Yes   -0.9592            Large      -13.1344       -3.9359\n",
      "Scenario 3          30    203.5488   223.5488   -20.0000          -8.9466    11.9871   11.9871      -6.4619   0.0000         Yes   -1.6685            Large      -26.1954      -13.8046\n",
      "\n",
      "Total observations in the dataset: 180\n",
      "\n",
      "Observations per scenario:\n",
      "  Scenario 1: 60 observations\n",
      "  Scenario 2: 60 observations\n",
      "  Scenario 3: 60 observations\n",
      "\n",
      "Observations per architecture:\n",
      "  micro: 90 observations\n",
      "  mono: 90 observations\n"
     ]
    }
   ],
   "source": [
    "# Create a comprehensive summary table with all metrics\n",
    "summary_table = pd.merge(welch_results, effect_size_results, on='Scenario')\n",
    "\n",
    "# Add percentage difference column\n",
    "summary_table['Percentage_Diff'] = ((summary_table['Micro_Mean'] - summary_table['Mono_Mean']) / \n",
    "                                 summary_table['Mono_Mean'] * 100)\n",
    "\n",
    "# Reorder columns for better readability\n",
    "summary_table = summary_table[['Scenario', 'Sample_Size', 'Micro_Mean', 'Mono_Mean', \n",
    "                              'Mean_Diff', 'Percentage_Diff', 'Micro_Std', 'Mono_Std',\n",
    "                              'T_Statistic', 'P_Value', 'Significant', \n",
    "                              'Cohens_d', 'Effect_Magnitude', '95%_CI_Lower', '95%_CI_Upper']]\n",
    "\n",
    "# Display the summary table\n",
    "print(\"\\nComprehensive PetClinic Architecture Comparison Summary:\")\n",
    "print(summary_table.round(4).to_string(index=False))\n",
    "\n",
    "# Count total observations\n",
    "total_observations = len(pet_clinic_data)\n",
    "scenario_counts = pet_clinic_data.groupby(['ScenarioPath']).size().reset_index(name='count')\n",
    "archi_counts = pet_clinic_data.groupby(['Architecture']).size().reset_index(name='count')\n",
    "\n",
    "print(f\"\\nTotal observations in the dataset: {total_observations}\")\n",
    "print(\"\\nObservations per scenario:\")\n",
    "for _, row in scenario_counts.iterrows():\n",
    "    print(f\"  Scenario {row['ScenarioPath']}: {row['count']} observations\")\n",
    "\n",
    "print(\"\\nObservations per architecture:\")\n",
    "for _, row in archi_counts.iterrows():\n",
    "    print(f\"  {row['Architecture']}: {row['count']} observations\")"
   ]
  }
 ],
 "metadata": {
  "kernelspec": {
   "display_name": "phd",
   "language": "python",
   "name": "python3"
  },
  "language_info": {
   "codemirror_mode": {
    "name": "ipython",
    "version": 3
   },
   "file_extension": ".py",
   "mimetype": "text/x-python",
   "name": "python",
   "nbconvert_exporter": "python",
   "pygments_lexer": "ipython3",
   "version": "3.10.16"
  }
 },
 "nbformat": 4,
 "nbformat_minor": 2
}
